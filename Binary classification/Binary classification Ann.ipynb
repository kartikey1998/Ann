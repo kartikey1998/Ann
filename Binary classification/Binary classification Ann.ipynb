{
 "cells": [
  {
   "cell_type": "code",
   "execution_count": 47,
   "metadata": {},
   "outputs": [],
   "source": [
    "import numpy as np\n",
    "import pandas as pd\n",
    "import tensorflow as tf\n",
    "from tensorflow import keras"
   ]
  },
  {
   "cell_type": "code",
   "execution_count": 48,
   "metadata": {},
   "outputs": [],
   "source": [
    "physical_devices = tf.config.list_physical_devices('GPU') \n",
    "tf.config.experimental.set_memory_growth(physical_devices[0], True)"
   ]
  },
  {
   "cell_type": "code",
   "execution_count": 49,
   "metadata": {},
   "outputs": [
    {
     "data": {
      "text/html": [
       "<div>\n",
       "<style scoped>\n",
       "    .dataframe tbody tr th:only-of-type {\n",
       "        vertical-align: middle;\n",
       "    }\n",
       "\n",
       "    .dataframe tbody tr th {\n",
       "        vertical-align: top;\n",
       "    }\n",
       "\n",
       "    .dataframe thead th {\n",
       "        text-align: right;\n",
       "    }\n",
       "</style>\n",
       "<table border=\"1\" class=\"dataframe\">\n",
       "  <thead>\n",
       "    <tr style=\"text-align: right;\">\n",
       "      <th></th>\n",
       "      <th>0</th>\n",
       "      <th>1</th>\n",
       "      <th>2</th>\n",
       "      <th>3</th>\n",
       "      <th>4</th>\n",
       "      <th>5</th>\n",
       "      <th>6</th>\n",
       "      <th>7</th>\n",
       "      <th>8</th>\n",
       "      <th>9</th>\n",
       "      <th>...</th>\n",
       "      <th>51</th>\n",
       "      <th>52</th>\n",
       "      <th>53</th>\n",
       "      <th>54</th>\n",
       "      <th>55</th>\n",
       "      <th>56</th>\n",
       "      <th>57</th>\n",
       "      <th>58</th>\n",
       "      <th>59</th>\n",
       "      <th>60</th>\n",
       "    </tr>\n",
       "  </thead>\n",
       "  <tbody>\n",
       "    <tr>\n",
       "      <th>0</th>\n",
       "      <td>0.0200</td>\n",
       "      <td>0.0371</td>\n",
       "      <td>0.0428</td>\n",
       "      <td>0.0207</td>\n",
       "      <td>0.0954</td>\n",
       "      <td>0.0986</td>\n",
       "      <td>0.1539</td>\n",
       "      <td>0.1601</td>\n",
       "      <td>0.3109</td>\n",
       "      <td>0.2111</td>\n",
       "      <td>...</td>\n",
       "      <td>0.0027</td>\n",
       "      <td>0.0065</td>\n",
       "      <td>0.0159</td>\n",
       "      <td>0.0072</td>\n",
       "      <td>0.0167</td>\n",
       "      <td>0.0180</td>\n",
       "      <td>0.0084</td>\n",
       "      <td>0.0090</td>\n",
       "      <td>0.0032</td>\n",
       "      <td>R</td>\n",
       "    </tr>\n",
       "    <tr>\n",
       "      <th>1</th>\n",
       "      <td>0.0453</td>\n",
       "      <td>0.0523</td>\n",
       "      <td>0.0843</td>\n",
       "      <td>0.0689</td>\n",
       "      <td>0.1183</td>\n",
       "      <td>0.2583</td>\n",
       "      <td>0.2156</td>\n",
       "      <td>0.3481</td>\n",
       "      <td>0.3337</td>\n",
       "      <td>0.2872</td>\n",
       "      <td>...</td>\n",
       "      <td>0.0084</td>\n",
       "      <td>0.0089</td>\n",
       "      <td>0.0048</td>\n",
       "      <td>0.0094</td>\n",
       "      <td>0.0191</td>\n",
       "      <td>0.0140</td>\n",
       "      <td>0.0049</td>\n",
       "      <td>0.0052</td>\n",
       "      <td>0.0044</td>\n",
       "      <td>R</td>\n",
       "    </tr>\n",
       "    <tr>\n",
       "      <th>2</th>\n",
       "      <td>0.0262</td>\n",
       "      <td>0.0582</td>\n",
       "      <td>0.1099</td>\n",
       "      <td>0.1083</td>\n",
       "      <td>0.0974</td>\n",
       "      <td>0.2280</td>\n",
       "      <td>0.2431</td>\n",
       "      <td>0.3771</td>\n",
       "      <td>0.5598</td>\n",
       "      <td>0.6194</td>\n",
       "      <td>...</td>\n",
       "      <td>0.0232</td>\n",
       "      <td>0.0166</td>\n",
       "      <td>0.0095</td>\n",
       "      <td>0.0180</td>\n",
       "      <td>0.0244</td>\n",
       "      <td>0.0316</td>\n",
       "      <td>0.0164</td>\n",
       "      <td>0.0095</td>\n",
       "      <td>0.0078</td>\n",
       "      <td>R</td>\n",
       "    </tr>\n",
       "    <tr>\n",
       "      <th>3</th>\n",
       "      <td>0.0100</td>\n",
       "      <td>0.0171</td>\n",
       "      <td>0.0623</td>\n",
       "      <td>0.0205</td>\n",
       "      <td>0.0205</td>\n",
       "      <td>0.0368</td>\n",
       "      <td>0.1098</td>\n",
       "      <td>0.1276</td>\n",
       "      <td>0.0598</td>\n",
       "      <td>0.1264</td>\n",
       "      <td>...</td>\n",
       "      <td>0.0121</td>\n",
       "      <td>0.0036</td>\n",
       "      <td>0.0150</td>\n",
       "      <td>0.0085</td>\n",
       "      <td>0.0073</td>\n",
       "      <td>0.0050</td>\n",
       "      <td>0.0044</td>\n",
       "      <td>0.0040</td>\n",
       "      <td>0.0117</td>\n",
       "      <td>R</td>\n",
       "    </tr>\n",
       "    <tr>\n",
       "      <th>4</th>\n",
       "      <td>0.0762</td>\n",
       "      <td>0.0666</td>\n",
       "      <td>0.0481</td>\n",
       "      <td>0.0394</td>\n",
       "      <td>0.0590</td>\n",
       "      <td>0.0649</td>\n",
       "      <td>0.1209</td>\n",
       "      <td>0.2467</td>\n",
       "      <td>0.3564</td>\n",
       "      <td>0.4459</td>\n",
       "      <td>...</td>\n",
       "      <td>0.0031</td>\n",
       "      <td>0.0054</td>\n",
       "      <td>0.0105</td>\n",
       "      <td>0.0110</td>\n",
       "      <td>0.0015</td>\n",
       "      <td>0.0072</td>\n",
       "      <td>0.0048</td>\n",
       "      <td>0.0107</td>\n",
       "      <td>0.0094</td>\n",
       "      <td>R</td>\n",
       "    </tr>\n",
       "  </tbody>\n",
       "</table>\n",
       "<p>5 rows × 61 columns</p>\n",
       "</div>"
      ],
      "text/plain": [
       "       0       1       2       3       4       5       6       7       8   \\\n",
       "0  0.0200  0.0371  0.0428  0.0207  0.0954  0.0986  0.1539  0.1601  0.3109   \n",
       "1  0.0453  0.0523  0.0843  0.0689  0.1183  0.2583  0.2156  0.3481  0.3337   \n",
       "2  0.0262  0.0582  0.1099  0.1083  0.0974  0.2280  0.2431  0.3771  0.5598   \n",
       "3  0.0100  0.0171  0.0623  0.0205  0.0205  0.0368  0.1098  0.1276  0.0598   \n",
       "4  0.0762  0.0666  0.0481  0.0394  0.0590  0.0649  0.1209  0.2467  0.3564   \n",
       "\n",
       "       9   ...      51      52      53      54      55      56      57  \\\n",
       "0  0.2111  ...  0.0027  0.0065  0.0159  0.0072  0.0167  0.0180  0.0084   \n",
       "1  0.2872  ...  0.0084  0.0089  0.0048  0.0094  0.0191  0.0140  0.0049   \n",
       "2  0.6194  ...  0.0232  0.0166  0.0095  0.0180  0.0244  0.0316  0.0164   \n",
       "3  0.1264  ...  0.0121  0.0036  0.0150  0.0085  0.0073  0.0050  0.0044   \n",
       "4  0.4459  ...  0.0031  0.0054  0.0105  0.0110  0.0015  0.0072  0.0048   \n",
       "\n",
       "       58      59  60  \n",
       "0  0.0090  0.0032   R  \n",
       "1  0.0052  0.0044   R  \n",
       "2  0.0095  0.0078   R  \n",
       "3  0.0040  0.0117   R  \n",
       "4  0.0107  0.0094   R  \n",
       "\n",
       "[5 rows x 61 columns]"
      ]
     },
     "execution_count": 49,
     "metadata": {},
     "output_type": "execute_result"
    }
   ],
   "source": [
    "df = pd.read_csv('sonar_dataset.csv', header = None)\n",
    "df.head()"
   ]
  },
  {
   "cell_type": "code",
   "execution_count": 50,
   "metadata": {},
   "outputs": [
    {
     "data": {
      "text/plain": [
       "0     0\n",
       "1     0\n",
       "2     0\n",
       "3     0\n",
       "4     0\n",
       "     ..\n",
       "56    0\n",
       "57    0\n",
       "58    0\n",
       "59    0\n",
       "60    0\n",
       "Length: 61, dtype: int64"
      ]
     },
     "execution_count": 50,
     "metadata": {},
     "output_type": "execute_result"
    }
   ],
   "source": [
    "df.isna().sum()"
   ]
  },
  {
   "cell_type": "code",
   "execution_count": 51,
   "metadata": {},
   "outputs": [
    {
     "data": {
      "text/plain": [
       "M    111\n",
       "R     97\n",
       "Name: 60, dtype: int64"
      ]
     },
     "execution_count": 51,
     "metadata": {},
     "output_type": "execute_result"
    }
   ],
   "source": [
    "df[60].value_counts()"
   ]
  },
  {
   "cell_type": "code",
   "execution_count": 52,
   "metadata": {},
   "outputs": [
    {
     "data": {
      "text/plain": [
       "0      R\n",
       "1      R\n",
       "2      R\n",
       "3      R\n",
       "4      R\n",
       "      ..\n",
       "203    M\n",
       "204    M\n",
       "205    M\n",
       "206    M\n",
       "207    M\n",
       "Name: 60, Length: 208, dtype: object"
      ]
     },
     "execution_count": 52,
     "metadata": {},
     "output_type": "execute_result"
    }
   ],
   "source": [
    "X = df.drop(60, axis = 1)\n",
    "y = df[60]\n",
    "y"
   ]
  },
  {
   "cell_type": "code",
   "execution_count": 53,
   "metadata": {},
   "outputs": [
    {
     "data": {
      "text/plain": [
       "0      1\n",
       "1      1\n",
       "2      1\n",
       "3      1\n",
       "4      1\n",
       "      ..\n",
       "203    0\n",
       "204    0\n",
       "205    0\n",
       "206    0\n",
       "207    0\n",
       "Name: 60, Length: 208, dtype: int64"
      ]
     },
     "execution_count": 53,
     "metadata": {},
     "output_type": "execute_result"
    }
   ],
   "source": [
    "y.replace({'R':1, 'M':0}, inplace = True)\n",
    "y"
   ]
  },
  {
   "cell_type": "code",
   "execution_count": 54,
   "metadata": {},
   "outputs": [],
   "source": [
    "from sklearn.model_selection import train_test_split\n",
    "X_train, X_test, y_train, y_test =train_test_split(X, y, test_size = 0.2, random_state = 1)"
   ]
  },
  {
   "cell_type": "code",
   "execution_count": 55,
   "metadata": {},
   "outputs": [
    {
     "name": "stdout",
     "output_type": "stream",
     "text": [
      "Epoch 1/100\n",
      "21/21 [==============================] - 1s 4ms/step - loss: 0.7565 - accuracy: 0.4541\n",
      "Epoch 2/100\n",
      "21/21 [==============================] - 0s 4ms/step - loss: 0.7289 - accuracy: 0.5027\n",
      "Epoch 3/100\n",
      "21/21 [==============================] - 0s 4ms/step - loss: 0.6822 - accuracy: 0.5860\n",
      "Epoch 4/100\n",
      "21/21 [==============================] - 0s 4ms/step - loss: 0.6932 - accuracy: 0.5294\n",
      "Epoch 5/100\n",
      "21/21 [==============================] - 0s 4ms/step - loss: 0.7246 - accuracy: 0.4811\n",
      "Epoch 6/100\n",
      "21/21 [==============================] - 0s 4ms/step - loss: 0.7043 - accuracy: 0.5259\n",
      "Epoch 7/100\n",
      "21/21 [==============================] - 0s 4ms/step - loss: 0.7054 - accuracy: 0.5293\n",
      "Epoch 8/100\n",
      "21/21 [==============================] - 0s 4ms/step - loss: 0.7006 - accuracy: 0.5633\n",
      "Epoch 9/100\n",
      "21/21 [==============================] - 0s 4ms/step - loss: 0.6974 - accuracy: 0.5756\n",
      "Epoch 10/100\n",
      "21/21 [==============================] - 0s 4ms/step - loss: 0.6938 - accuracy: 0.4761\n",
      "Epoch 11/100\n",
      "21/21 [==============================] - 0s 4ms/step - loss: 0.6665 - accuracy: 0.5735\n",
      "Epoch 12/100\n",
      "21/21 [==============================] - 0s 4ms/step - loss: 0.6875 - accuracy: 0.5214\n",
      "Epoch 13/100\n",
      "21/21 [==============================] - 0s 4ms/step - loss: 0.6654 - accuracy: 0.6059\n",
      "Epoch 14/100\n",
      "21/21 [==============================] - 0s 4ms/step - loss: 0.6751 - accuracy: 0.6108\n",
      "Epoch 15/100\n",
      "21/21 [==============================] - 0s 4ms/step - loss: 0.6992 - accuracy: 0.4306\n",
      "Epoch 16/100\n",
      "21/21 [==============================] - 0s 4ms/step - loss: 0.6847 - accuracy: 0.5840\n",
      "Epoch 17/100\n",
      "21/21 [==============================] - 0s 4ms/step - loss: 0.6814 - accuracy: 0.6156\n",
      "Epoch 18/100\n",
      "21/21 [==============================] - 0s 4ms/step - loss: 0.6609 - accuracy: 0.6170\n",
      "Epoch 19/100\n",
      "21/21 [==============================] - 0s 4ms/step - loss: 0.6556 - accuracy: 0.5671\n",
      "Epoch 20/100\n",
      "21/21 [==============================] - 0s 4ms/step - loss: 0.6484 - accuracy: 0.5508\n",
      "Epoch 21/100\n",
      "21/21 [==============================] - 0s 4ms/step - loss: 0.6450 - accuracy: 0.6372\n",
      "Epoch 22/100\n",
      "21/21 [==============================] - 0s 4ms/step - loss: 0.6525 - accuracy: 0.6012: 0s - loss: 0.6529 - accuracy: 0.60\n",
      "Epoch 23/100\n",
      "21/21 [==============================] - 0s 4ms/step - loss: 0.5975 - accuracy: 0.6613\n",
      "Epoch 24/100\n",
      "21/21 [==============================] - 0s 4ms/step - loss: 0.6003 - accuracy: 0.6669\n",
      "Epoch 25/100\n",
      "21/21 [==============================] - 0s 4ms/step - loss: 0.6430 - accuracy: 0.7028\n",
      "Epoch 26/100\n",
      "21/21 [==============================] - 0s 4ms/step - loss: 0.5918 - accuracy: 0.6267\n",
      "Epoch 27/100\n",
      "21/21 [==============================] - 0s 4ms/step - loss: 0.5856 - accuracy: 0.6682\n",
      "Epoch 28/100\n",
      "21/21 [==============================] - 0s 4ms/step - loss: 0.5966 - accuracy: 0.6998\n",
      "Epoch 29/100\n",
      "21/21 [==============================] - 0s 4ms/step - loss: 0.6128 - accuracy: 0.7666\n",
      "Epoch 30/100\n",
      "21/21 [==============================] - 0s 4ms/step - loss: 0.5447 - accuracy: 0.7839\n",
      "Epoch 31/100\n",
      "21/21 [==============================] - 0s 4ms/step - loss: 0.5973 - accuracy: 0.6064\n",
      "Epoch 32/100\n",
      "21/21 [==============================] - 0s 4ms/step - loss: 0.5363 - accuracy: 0.8098\n",
      "Epoch 33/100\n",
      "21/21 [==============================] - 0s 4ms/step - loss: 0.5594 - accuracy: 0.7503\n",
      "Epoch 34/100\n",
      "21/21 [==============================] - 0s 4ms/step - loss: 0.5182 - accuracy: 0.7509\n",
      "Epoch 35/100\n",
      "21/21 [==============================] - 0s 4ms/step - loss: 0.5074 - accuracy: 0.8001\n",
      "Epoch 36/100\n",
      "21/21 [==============================] - 0s 4ms/step - loss: 0.5546 - accuracy: 0.7102\n",
      "Epoch 37/100\n",
      "21/21 [==============================] - 0s 5ms/step - loss: 0.4907 - accuracy: 0.7761\n",
      "Epoch 38/100\n",
      "21/21 [==============================] - 0s 4ms/step - loss: 0.5502 - accuracy: 0.7103\n",
      "Epoch 39/100\n",
      "21/21 [==============================] - 0s 4ms/step - loss: 0.4909 - accuracy: 0.7359\n",
      "Epoch 40/100\n",
      "21/21 [==============================] - 0s 4ms/step - loss: 0.4982 - accuracy: 0.6958\n",
      "Epoch 41/100\n",
      "21/21 [==============================] - 0s 4ms/step - loss: 0.5775 - accuracy: 0.6733\n",
      "Epoch 42/100\n",
      "21/21 [==============================] - 0s 4ms/step - loss: 0.4467 - accuracy: 0.7910\n",
      "Epoch 43/100\n",
      "21/21 [==============================] - 0s 4ms/step - loss: 0.5579 - accuracy: 0.7459: 0s - loss: 0.5679 - accuracy: 0.73\n",
      "Epoch 44/100\n",
      "21/21 [==============================] - 0s 4ms/step - loss: 0.4244 - accuracy: 0.7898\n",
      "Epoch 45/100\n",
      "21/21 [==============================] - 0s 4ms/step - loss: 0.4900 - accuracy: 0.7663\n",
      "Epoch 46/100\n",
      "21/21 [==============================] - 0s 4ms/step - loss: 0.4696 - accuracy: 0.8755\n",
      "Epoch 47/100\n",
      "21/21 [==============================] - 0s 4ms/step - loss: 0.5198 - accuracy: 0.7536\n",
      "Epoch 48/100\n",
      "21/21 [==============================] - 0s 4ms/step - loss: 0.4407 - accuracy: 0.8205\n",
      "Epoch 49/100\n",
      "21/21 [==============================] - 0s 4ms/step - loss: 0.4364 - accuracy: 0.8272\n",
      "Epoch 50/100\n",
      "21/21 [==============================] - 0s 4ms/step - loss: 0.3979 - accuracy: 0.8255\n",
      "Epoch 51/100\n",
      "21/21 [==============================] - 0s 4ms/step - loss: 0.4848 - accuracy: 0.7950\n",
      "Epoch 52/100\n",
      "21/21 [==============================] - 0s 4ms/step - loss: 0.4794 - accuracy: 0.7363\n",
      "Epoch 53/100\n",
      "21/21 [==============================] - 0s 4ms/step - loss: 0.4746 - accuracy: 0.8197\n",
      "Epoch 54/100\n",
      "21/21 [==============================] - 0s 4ms/step - loss: 0.4115 - accuracy: 0.8144\n",
      "Epoch 55/100\n",
      "21/21 [==============================] - 0s 4ms/step - loss: 0.4463 - accuracy: 0.7997\n",
      "Epoch 56/100\n",
      "21/21 [==============================] - 0s 4ms/step - loss: 0.4426 - accuracy: 0.8486\n",
      "Epoch 57/100\n",
      "21/21 [==============================] - 0s 5ms/step - loss: 0.3841 - accuracy: 0.8712\n",
      "Epoch 58/100\n",
      "21/21 [==============================] - 0s 5ms/step - loss: 0.4074 - accuracy: 0.7741\n",
      "Epoch 59/100\n",
      "21/21 [==============================] - 0s 6ms/step - loss: 0.4053 - accuracy: 0.8168\n",
      "Epoch 60/100\n",
      "21/21 [==============================] - 0s 5ms/step - loss: 0.3801 - accuracy: 0.8494\n",
      "Epoch 61/100\n",
      "21/21 [==============================] - 0s 5ms/step - loss: 0.3628 - accuracy: 0.8339\n",
      "Epoch 62/100\n",
      "21/21 [==============================] - 0s 5ms/step - loss: 0.3945 - accuracy: 0.8324\n",
      "Epoch 63/100\n",
      "21/21 [==============================] - 0s 4ms/step - loss: 0.3734 - accuracy: 0.8498\n",
      "Epoch 64/100\n",
      "21/21 [==============================] - 0s 5ms/step - loss: 0.3992 - accuracy: 0.8776\n",
      "Epoch 65/100\n",
      "21/21 [==============================] - 0s 4ms/step - loss: 0.3645 - accuracy: 0.8783\n",
      "Epoch 66/100\n",
      "21/21 [==============================] - 0s 5ms/step - loss: 0.3102 - accuracy: 0.8781\n",
      "Epoch 67/100\n",
      "21/21 [==============================] - 0s 4ms/step - loss: 0.3512 - accuracy: 0.8235\n",
      "Epoch 68/100\n",
      "21/21 [==============================] - 0s 5ms/step - loss: 0.3444 - accuracy: 0.8358\n",
      "Epoch 69/100\n",
      "21/21 [==============================] - 0s 5ms/step - loss: 0.3528 - accuracy: 0.8354\n",
      "Epoch 70/100\n",
      "21/21 [==============================] - 0s 5ms/step - loss: 0.3797 - accuracy: 0.8310\n",
      "Epoch 71/100\n",
      "21/21 [==============================] - 0s 4ms/step - loss: 0.3566 - accuracy: 0.8931\n",
      "Epoch 72/100\n",
      "21/21 [==============================] - 0s 4ms/step - loss: 0.3283 - accuracy: 0.8955\n",
      "Epoch 73/100\n",
      "21/21 [==============================] - 0s 4ms/step - loss: 0.3636 - accuracy: 0.8657\n",
      "Epoch 74/100\n",
      "21/21 [==============================] - 0s 4ms/step - loss: 0.2629 - accuracy: 0.9078\n",
      "Epoch 75/100\n",
      "21/21 [==============================] - 0s 4ms/step - loss: 0.3430 - accuracy: 0.8445\n",
      "Epoch 76/100\n",
      "21/21 [==============================] - 0s 4ms/step - loss: 0.4048 - accuracy: 0.8444\n",
      "Epoch 77/100\n",
      "21/21 [==============================] - 0s 4ms/step - loss: 0.3048 - accuracy: 0.8229\n",
      "Epoch 78/100\n",
      "21/21 [==============================] - 0s 4ms/step - loss: 0.3195 - accuracy: 0.8697\n",
      "Epoch 79/100\n",
      "21/21 [==============================] - 0s 4ms/step - loss: 0.3001 - accuracy: 0.9117\n",
      "Epoch 80/100\n",
      "21/21 [==============================] - 0s 4ms/step - loss: 0.3174 - accuracy: 0.8883\n",
      "Epoch 81/100\n",
      "21/21 [==============================] - 0s 4ms/step - loss: 0.2971 - accuracy: 0.8806\n",
      "Epoch 82/100\n"
     ]
    },
    {
     "name": "stdout",
     "output_type": "stream",
     "text": [
      "21/21 [==============================] - 0s 4ms/step - loss: 0.2712 - accuracy: 0.9221\n",
      "Epoch 83/100\n",
      "21/21 [==============================] - 0s 4ms/step - loss: 0.2401 - accuracy: 0.9407\n",
      "Epoch 84/100\n",
      "21/21 [==============================] - 0s 4ms/step - loss: 0.2502 - accuracy: 0.9070\n",
      "Epoch 85/100\n",
      "21/21 [==============================] - 0s 4ms/step - loss: 0.3278 - accuracy: 0.8976\n",
      "Epoch 86/100\n",
      "21/21 [==============================] - 0s 4ms/step - loss: 0.2222 - accuracy: 0.9128\n",
      "Epoch 87/100\n",
      "21/21 [==============================] - 0s 4ms/step - loss: 0.3185 - accuracy: 0.8992\n",
      "Epoch 88/100\n",
      "21/21 [==============================] - 0s 4ms/step - loss: 0.2887 - accuracy: 0.8937\n",
      "Epoch 89/100\n",
      "21/21 [==============================] - 0s 4ms/step - loss: 0.2935 - accuracy: 0.8658\n",
      "Epoch 90/100\n",
      "21/21 [==============================] - 0s 4ms/step - loss: 0.2705 - accuracy: 0.8663\n",
      "Epoch 91/100\n",
      "21/21 [==============================] - 0s 4ms/step - loss: 0.3736 - accuracy: 0.8700\n",
      "Epoch 92/100\n",
      "21/21 [==============================] - 0s 4ms/step - loss: 0.2502 - accuracy: 0.9206\n",
      "Epoch 93/100\n",
      "21/21 [==============================] - 0s 4ms/step - loss: 0.2441 - accuracy: 0.8954\n",
      "Epoch 94/100\n",
      "21/21 [==============================] - 0s 4ms/step - loss: 0.2740 - accuracy: 0.8821\n",
      "Epoch 95/100\n",
      "21/21 [==============================] - 0s 4ms/step - loss: 0.2340 - accuracy: 0.9332\n",
      "Epoch 96/100\n",
      "21/21 [==============================] - 0s 4ms/step - loss: 0.2484 - accuracy: 0.8960\n",
      "Epoch 97/100\n",
      "21/21 [==============================] - 0s 4ms/step - loss: 0.1771 - accuracy: 0.9417\n",
      "Epoch 98/100\n",
      "21/21 [==============================] - 0s 4ms/step - loss: 0.3261 - accuracy: 0.8986\n",
      "Epoch 99/100\n",
      "21/21 [==============================] - 0s 4ms/step - loss: 0.3121 - accuracy: 0.8776\n",
      "Epoch 100/100\n",
      "21/21 [==============================] - 0s 4ms/step - loss: 0.2848 - accuracy: 0.8841\n"
     ]
    },
    {
     "data": {
      "text/plain": [
       "<tensorflow.python.keras.callbacks.History at 0x2482fc31ee0>"
      ]
     },
     "execution_count": 55,
     "metadata": {},
     "output_type": "execute_result"
    }
   ],
   "source": [
    "model = keras.Sequential([\n",
    "    keras.layers.Dense(60, activation = 'relu'),\n",
    "    tf.keras.layers.Dropout(0.5),\n",
    "    keras.layers.Dense(30, activation = 'relu'),\n",
    "    tf.keras.layers.Dropout(0.5),\n",
    "    keras.layers.Dense(15, activation = 'relu'),\n",
    "    tf.keras.layers.Dropout(0.5),\n",
    "    keras.layers.Dense(1, activation = 'sigmoid')])\n",
    "\n",
    "model.compile(loss = 'binary_crossentropy', optimizer = 'adam', metrics = 'accuracy')\n",
    "\n",
    "model.fit(X_train, y_train, epochs = 100, batch_size = 8)"
   ]
  },
  {
   "cell_type": "code",
   "execution_count": 56,
   "metadata": {},
   "outputs": [
    {
     "name": "stdout",
     "output_type": "stream",
     "text": [
      "2/2 [==============================] - 0s 4ms/step - loss: 0.5279 - accuracy: 0.7619\n"
     ]
    },
    {
     "data": {
      "text/plain": [
       "[0.5279273986816406, 0.761904776096344]"
      ]
     },
     "execution_count": 56,
     "metadata": {},
     "output_type": "execute_result"
    }
   ],
   "source": [
    "model.evaluate(X_test, y_test)"
   ]
  },
  {
   "cell_type": "code",
   "execution_count": 57,
   "metadata": {},
   "outputs": [
    {
     "name": "stdout",
     "output_type": "stream",
     "text": [
      "[0. 1. 1. 0. 1. 1. 0. 1. 0. 1.]\n"
     ]
    }
   ],
   "source": [
    "y_pred = model.predict(X_test).reshape(len(X_test))\n",
    "y_pred = np.round(y_pred)\n",
    "print(y_pred[:10])"
   ]
  },
  {
   "cell_type": "code",
   "execution_count": 58,
   "metadata": {},
   "outputs": [
    {
     "name": "stdout",
     "output_type": "stream",
     "text": [
      "186    0\n",
      "155    0\n",
      "165    0\n",
      "200    0\n",
      "58     1\n",
      "34     1\n",
      "151    0\n",
      "18     1\n",
      "202    0\n",
      "62     1\n",
      "Name: 60, dtype: int64\n"
     ]
    }
   ],
   "source": [
    "print(y_test[:10])"
   ]
  },
  {
   "cell_type": "code",
   "execution_count": 59,
   "metadata": {},
   "outputs": [
    {
     "name": "stdout",
     "output_type": "stream",
     "text": [
      "              precision    recall  f1-score   support\n",
      "\n",
      "           0       0.69      0.90      0.78        20\n",
      "           1       0.88      0.64      0.74        22\n",
      "\n",
      "    accuracy                           0.76        42\n",
      "   macro avg       0.78      0.77      0.76        42\n",
      "weighted avg       0.79      0.76      0.76        42\n",
      "\n"
     ]
    }
   ],
   "source": [
    "from sklearn.metrics import classification_report\n",
    "print(classification_report(y_test, y_pred))"
   ]
  }
 ],
 "metadata": {
  "kernelspec": {
   "display_name": "Python 3",
   "language": "python",
   "name": "python3"
  },
  "language_info": {
   "codemirror_mode": {
    "name": "ipython",
    "version": 3
   },
   "file_extension": ".py",
   "mimetype": "text/x-python",
   "name": "python",
   "nbconvert_exporter": "python",
   "pygments_lexer": "ipython3",
   "version": "3.8.5"
  }
 },
 "nbformat": 4,
 "nbformat_minor": 4
}
