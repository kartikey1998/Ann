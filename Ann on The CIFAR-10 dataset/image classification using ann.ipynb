{
 "cells": [
  {
   "cell_type": "code",
   "execution_count": 41,
   "metadata": {},
   "outputs": [],
   "source": [
    "import tensorflow as tf\n",
    "from tensorflow import keras\n",
    "import matplotlib.pyplot as plt\n",
    "import numpy as np"
   ]
  },
  {
   "cell_type": "code",
   "execution_count": 42,
   "metadata": {},
   "outputs": [
    {
     "data": {
      "text/plain": [
       "[PhysicalDevice(name='/physical_device:CPU:0', device_type='CPU'),\n",
       " PhysicalDevice(name='/physical_device:GPU:0', device_type='GPU')]"
      ]
     },
     "execution_count": 42,
     "metadata": {},
     "output_type": "execute_result"
    }
   ],
   "source": [
    "tf.config.list_physical_devices()"
   ]
  },
  {
   "cell_type": "code",
   "execution_count": 57,
   "metadata": {},
   "outputs": [],
   "source": [
    " (X_train, y_train), (X_test, y_test)= tf.keras.datasets.cifar10.load_data()\n"
   ]
  },
  {
   "cell_type": "code",
   "execution_count": 44,
   "metadata": {},
   "outputs": [
    {
     "data": {
      "text/plain": [
       "(50000, 32, 32, 3)"
      ]
     },
     "execution_count": 44,
     "metadata": {},
     "output_type": "execute_result"
    }
   ],
   "source": [
    "X_train.shape"
   ]
  },
  {
   "cell_type": "code",
   "execution_count": 58,
   "metadata": {},
   "outputs": [],
   "source": [
    "X_train = X_train/255\n",
    "X_test= X_test/255"
   ]
  },
  {
   "cell_type": "code",
   "execution_count": 46,
   "metadata": {},
   "outputs": [
    {
     "data": {
      "text/plain": [
       "array([[6],\n",
       "       [9],\n",
       "       [9],\n",
       "       [4],\n",
       "       [1]], dtype=uint8)"
      ]
     },
     "execution_count": 46,
     "metadata": {},
     "output_type": "execute_result"
    }
   ],
   "source": [
    "y_train[:5]"
   ]
  },
  {
   "cell_type": "code",
   "execution_count": 64,
   "metadata": {},
   "outputs": [],
   "source": [
    "classes = ('airplane',\n",
    "'automobile',\n",
    "'bird',\n",
    "'cat',\n",
    "'deer',\n",
    "'dog',\n",
    "'frog',\n",
    "'horse',\n",
    "'ship',\n",
    "'truck')"
   ]
  },
  {
   "cell_type": "code",
   "execution_count": 47,
   "metadata": {},
   "outputs": [],
   "source": [
    "y_train_categorical = keras.utils.to_categorical(y_train, num_classes=10, dtype='float32')"
   ]
  },
  {
   "cell_type": "code",
   "execution_count": 48,
   "metadata": {},
   "outputs": [],
   "source": [
    "y_test_categorical = keras.utils.to_categorical(y_test, num_classes=10, dtype='float32')"
   ]
  },
  {
   "cell_type": "code",
   "execution_count": 51,
   "metadata": {},
   "outputs": [],
   "source": [
    "model = keras.Sequential()\n",
    "model.add(keras.layers.Flatten(input_shape=(32,32,3)))\n",
    "model.add(keras.layers.Dense(3000, activation = 'relu'))\n",
    "model.add(keras.layers.Dense(1000, activation = 'relu'))\n",
    "model.add(keras.layers.Dense(500, activation = 'relu'))\n",
    "model.add(keras.layers.Dense(100, activation = 'relu'))\n",
    "model.add(keras.layers.Dense(10, activation = 'sigmoid'))"
   ]
  },
  {
   "cell_type": "code",
   "execution_count": 52,
   "metadata": {
    "scrolled": true
   },
   "outputs": [
    {
     "name": "stdout",
     "output_type": "stream",
     "text": [
      "Epoch 1/50\n",
      "1563/1563 [==============================] - 12s 8ms/step - loss: 2.1285 - accuracy: 0.2463\n",
      "Epoch 2/50\n",
      "1563/1563 [==============================] - 12s 8ms/step - loss: 1.7245 - accuracy: 0.3772\n",
      "Epoch 3/50\n",
      "1563/1563 [==============================] - 12s 8ms/step - loss: 1.6287 - accuracy: 0.4172\n",
      "Epoch 4/50\n",
      "1563/1563 [==============================] - 12s 8ms/step - loss: 1.5614 - accuracy: 0.4405\n",
      "Epoch 5/50\n",
      "1563/1563 [==============================] - 12s 8ms/step - loss: 1.5098 - accuracy: 0.4594\n",
      "Epoch 6/50\n",
      "1563/1563 [==============================] - 12s 8ms/step - loss: 1.4754 - accuracy: 0.4693\n",
      "Epoch 7/50\n",
      "1563/1563 [==============================] - 12s 8ms/step - loss: 1.4417 - accuracy: 0.4798\n",
      "Epoch 8/50\n",
      "1563/1563 [==============================] - 12s 8ms/step - loss: 1.4100 - accuracy: 0.4946\n",
      "Epoch 9/50\n",
      "1563/1563 [==============================] - 12s 8ms/step - loss: 1.3809 - accuracy: 0.5014\n",
      "Epoch 10/50\n",
      "1563/1563 [==============================] - 12s 8ms/step - loss: 1.3483 - accuracy: 0.5119\n",
      "Epoch 11/50\n",
      "1563/1563 [==============================] - 12s 8ms/step - loss: 1.3296 - accuracy: 0.5235\n",
      "Epoch 12/50\n",
      "1563/1563 [==============================] - 12s 8ms/step - loss: 1.2906 - accuracy: 0.5350\n",
      "Epoch 13/50\n",
      "1563/1563 [==============================] - 12s 8ms/step - loss: 1.2705 - accuracy: 0.5404\n",
      "Epoch 14/50\n",
      "1563/1563 [==============================] - 12s 8ms/step - loss: 1.2361 - accuracy: 0.5497\n",
      "Epoch 15/50\n",
      "1563/1563 [==============================] - 12s 8ms/step - loss: 1.2120 - accuracy: 0.5640\n",
      "Epoch 16/50\n",
      "1563/1563 [==============================] - 12s 8ms/step - loss: 1.1816 - accuracy: 0.5760\n",
      "Epoch 17/50\n",
      "1563/1563 [==============================] - 12s 8ms/step - loss: 1.1626 - accuracy: 0.5764\n",
      "Epoch 18/50\n",
      "1563/1563 [==============================] - 12s 8ms/step - loss: 1.1272 - accuracy: 0.5936\n",
      "Epoch 19/50\n",
      "1563/1563 [==============================] - 12s 8ms/step - loss: 1.1054 - accuracy: 0.5986\n",
      "Epoch 20/50\n",
      "1563/1563 [==============================] - 12s 8ms/step - loss: 1.0691 - accuracy: 0.6125\n",
      "Epoch 21/50\n",
      "1563/1563 [==============================] - 12s 8ms/step - loss: 1.0474 - accuracy: 0.6206\n",
      "Epoch 22/50\n",
      "1563/1563 [==============================] - 12s 7ms/step - loss: 1.0314 - accuracy: 0.6243\n",
      "Epoch 23/50\n",
      "1563/1563 [==============================] - 12s 8ms/step - loss: 0.9976 - accuracy: 0.6394\n",
      "Epoch 24/50\n",
      "1563/1563 [==============================] - 12s 8ms/step - loss: 0.9735 - accuracy: 0.6467\n",
      "Epoch 25/50\n",
      "1563/1563 [==============================] - 12s 8ms/step - loss: 0.9407 - accuracy: 0.6592\n",
      "Epoch 26/50\n",
      "1563/1563 [==============================] - 12s 8ms/step - loss: 0.9099 - accuracy: 0.6707\n",
      "Epoch 27/50\n",
      "1563/1563 [==============================] - 12s 8ms/step - loss: 0.8946 - accuracy: 0.6774\n",
      "Epoch 28/50\n",
      "1563/1563 [==============================] - 12s 8ms/step - loss: 0.8596 - accuracy: 0.6865\n",
      "Epoch 29/50\n",
      "1563/1563 [==============================] - 12s 8ms/step - loss: 0.8221 - accuracy: 0.7010\n",
      "Epoch 30/50\n",
      "1563/1563 [==============================] - 12s 8ms/step - loss: 0.8145 - accuracy: 0.7041\n",
      "Epoch 31/50\n",
      "1563/1563 [==============================] - 12s 8ms/step - loss: 0.7980 - accuracy: 0.7121\n",
      "Epoch 32/50\n",
      "1563/1563 [==============================] - 12s 8ms/step - loss: 0.7816 - accuracy: 0.7164\n",
      "Epoch 33/50\n",
      "1563/1563 [==============================] - 12s 8ms/step - loss: 0.7519 - accuracy: 0.7258\n",
      "Epoch 34/50\n",
      "1563/1563 [==============================] - 12s 8ms/step - loss: 0.7229 - accuracy: 0.7382\n",
      "Epoch 35/50\n",
      "1563/1563 [==============================] - 12s 8ms/step - loss: 0.7208 - accuracy: 0.7371\n",
      "Epoch 36/50\n",
      "1563/1563 [==============================] - 12s 8ms/step - loss: 0.7104 - accuracy: 0.7427\n",
      "Epoch 37/50\n",
      "1563/1563 [==============================] - 12s 8ms/step - loss: 0.6842 - accuracy: 0.7531\n",
      "Epoch 38/50\n",
      "1563/1563 [==============================] - 12s 7ms/step - loss: 0.6790 - accuracy: 0.7503\n",
      "Epoch 39/50\n",
      "1563/1563 [==============================] - 12s 8ms/step - loss: 0.6510 - accuracy: 0.7652\n",
      "Epoch 40/50\n",
      "1563/1563 [==============================] - 12s 8ms/step - loss: 0.6446 - accuracy: 0.7686\n",
      "Epoch 41/50\n",
      "1563/1563 [==============================] - 12s 8ms/step - loss: 0.6199 - accuracy: 0.7753\n",
      "Epoch 42/50\n",
      "1563/1563 [==============================] - 12s 8ms/step - loss: 0.6074 - accuracy: 0.7822\n",
      "Epoch 43/50\n",
      "1563/1563 [==============================] - 12s 8ms/step - loss: 0.6043 - accuracy: 0.7867\n",
      "Epoch 44/50\n",
      "1563/1563 [==============================] - 12s 8ms/step - loss: 0.5908 - accuracy: 0.7880\n",
      "Epoch 45/50\n",
      "1563/1563 [==============================] - 12s 8ms/step - loss: 0.5637 - accuracy: 0.7941\n",
      "Epoch 46/50\n",
      "1563/1563 [==============================] - 12s 8ms/step - loss: 0.5700 - accuracy: 0.7961\n",
      "Epoch 47/50\n",
      "1563/1563 [==============================] - 12s 8ms/step - loss: 0.5448 - accuracy: 0.8060\n",
      "Epoch 48/50\n",
      "1563/1563 [==============================] - 12s 8ms/step - loss: 0.5428 - accuracy: 0.8042\n",
      "Epoch 49/50\n",
      "1563/1563 [==============================] - 12s 8ms/step - loss: 0.5486 - accuracy: 0.8031\n",
      "Epoch 50/50\n",
      "1563/1563 [==============================] - 12s 8ms/step - loss: 0.5230 - accuracy: 0.8133\n"
     ]
    },
    {
     "data": {
      "text/plain": [
       "<tensorflow.python.keras.callbacks.History at 0x131dad18940>"
      ]
     },
     "execution_count": 52,
     "metadata": {},
     "output_type": "execute_result"
    }
   ],
   "source": [
    "model.compile(optimizer='adam',\n",
    "              loss='categorical_crossentropy',\n",
    "              metrics='accuracy')\n",
    "model.fit(X_train, y_train_categorical, epochs = 50)"
   ]
  },
  {
   "cell_type": "code",
   "execution_count": 67,
   "metadata": {},
   "outputs": [
    {
     "data": {
      "text/plain": [
       "'horse'"
      ]
     },
     "execution_count": 67,
     "metadata": {},
     "output_type": "execute_result"
    }
   ],
   "source": [
    "classes[np.argmax(model.predict(X_test)[19])]"
   ]
  },
  {
   "cell_type": "code",
   "execution_count": null,
   "metadata": {},
   "outputs": [],
   "source": []
  }
 ],
 "metadata": {
  "kernelspec": {
   "display_name": "Python 3",
   "language": "python",
   "name": "python3"
  },
  "language_info": {
   "codemirror_mode": {
    "name": "ipython",
    "version": 3
   },
   "file_extension": ".py",
   "mimetype": "text/x-python",
   "name": "python",
   "nbconvert_exporter": "python",
   "pygments_lexer": "ipython3",
   "version": "3.8.5"
  }
 },
 "nbformat": 4,
 "nbformat_minor": 4
}
